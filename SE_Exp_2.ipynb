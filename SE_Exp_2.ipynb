{
  "nbformat": 4,
  "nbformat_minor": 0,
  "metadata": {
    "colab": {
      "provenance": [],
      "authorship_tag": "ABX9TyNuSsqdWuzVufoIafBHjXP2",
      "include_colab_link": true
    },
    "kernelspec": {
      "name": "python3",
      "display_name": "Python 3"
    },
    "language_info": {
      "name": "python"
    }
  },
  "cells": [
    {
      "cell_type": "markdown",
      "metadata": {
        "id": "view-in-github",
        "colab_type": "text"
      },
      "source": [
        "<a href=\"https://colab.research.google.com/github/bavin-05/software-engineering-lab/blob/main/SE_Exp_2.ipynb\" target=\"_parent\"><img src=\"https://colab.research.google.com/assets/colab-badge.svg\" alt=\"Open In Colab\"/></a>"
      ]
    },
    {
      "cell_type": "code",
      "source": [
        "!pip install numpy"
      ],
      "metadata": {
        "colab": {
          "base_uri": "https://localhost:8080/"
        },
        "id": "qmJ4K9XuCxq8",
        "outputId": "6f5e2bc7-5219-4377-da8f-dcbd37908763"
      },
      "execution_count": null,
      "outputs": [
        {
          "output_type": "stream",
          "name": "stdout",
          "text": [
            "Requirement already satisfied: numpy in /usr/local/lib/python3.10/dist-packages (1.26.4)\n"
          ]
        }
      ]
    },
    {
      "cell_type": "code",
      "source": [
        "import numpy as np"
      ],
      "metadata": {
        "id": "jI3Ybc7mCsSV"
      },
      "execution_count": null,
      "outputs": []
    },
    {
      "cell_type": "code",
      "execution_count": 13,
      "metadata": {
        "id": "Xs45Epklu_Wp"
      },
      "outputs": [],
      "source": [
        "def Temperature_modelling(a,b,c,time):\n",
        "  temperature = a*time**2 + b*time + c\n",
        "  return temperature"
      ]
    },
    {
      "cell_type": "code",
      "source": [
        "# Hardcoded variables\n",
        "a, b, c = 0.1, 6, 7\n",
        "time = 5"
      ],
      "metadata": {
        "id": "Koc-jkXuvF4Z"
      },
      "execution_count": 14,
      "outputs": []
    },
    {
      "cell_type": "code",
      "source": [
        "#display results\n",
        "print(\"Hard-coded variable for weather modelling\")\n",
        "print(\"Temperure for hardcoded coefficients at time\",time,\"hours:\",Temperature_modelling(a,b,c,time))"
      ],
      "metadata": {
        "id": "pAyOM9CgvJpe",
        "outputId": "dccccd68-403f-4a01-a882-337f66196b28",
        "colab": {
          "base_uri": "https://localhost:8080/"
        }
      },
      "execution_count": 15,
      "outputs": [
        {
          "output_type": "stream",
          "name": "stdout",
          "text": [
            "Hard-coded variable for weather modelling\n",
            "Temperure for hardcoded coefficients at time 5 hours: 39.5\n"
          ]
        }
      ]
    },
    {
      "cell_type": "code",
      "source": [],
      "metadata": {
        "id": "q8I14DNDEM_H"
      },
      "execution_count": null,
      "outputs": []
    },
    {
      "cell_type": "code",
      "source": [
        ".a=float(input(\"Enter coefficient a:\"))\n",
        "b=float(input(\"Enter coefficient b:\"))\n",
        "c=float(input(\"enter coefficient c:\"))\n"
      ],
      "metadata": {
        "colab": {
          "base_uri": "https://localhost:8080/"
        },
        "id": "fIVYxTEJEObm",
        "outputId": "69bd54cf-8759-4cda-9296-d292902b222b"
      },
      "execution_count": 16,
      "outputs": [
        {
          "name": "stdout",
          "output_type": "stream",
          "text": [
            "Enter coefficient a:7\n",
            "Enter coefficient b:9\n",
            "enter coefficient c:2\n"
          ]
        }
      ]
    },
    {
      "cell_type": "code",
      "source": [
        "time=float(input(\"enter time\"))"
      ],
      "metadata": {
        "colab": {
          "base_uri": "https://localhost:8080/"
        },
        "id": "BedHmPCUEVyA",
        "outputId": "77d93e2d-43e3-4baa-c5b5-f643079aa3c2"
      },
      "execution_count": 17,
      "outputs": [
        {
          "name": "stdout",
          "output_type": "stream",
          "text": [
            "enter time4\n"
          ]
        }
      ]
    },
    {
      "cell_type": "code",
      "source": [
        "#variables read from keyboard\n",
        "print(\"Hard-coded variables for weather modelling\")\n",
        "print(\"Temperature form keyboard coefficients at time\",time,\"hours:\",Temperature_modelling(a,b,c,time))"
      ],
      "metadata": {
        "colab": {
          "base_uri": "https://localhost:8080/"
        },
        "id": "HiLE1E_IEmIb",
        "outputId": "d1f774e5-4bdb-46be-96c7-02f95cac2cea"
      },
      "execution_count": 18,
      "outputs": [
        {
          "output_type": "stream",
          "name": "stdout",
          "text": [
            "Hard-coded variables for weather modelling\n",
            "Temperature form keyboard coefficients at time 4.0 hours: 150.0\n"
          ]
        }
      ]
    },
    {
      "cell_type": "code",
      "source": [],
      "metadata": {
        "id": "J9AwBDdWn8be"
      },
      "execution_count": null,
      "outputs": []
    },
    {
      "cell_type": "code",
      "source": [
        "# Read coefficients from a file\n",
        "def read_from_file(filename):\n",
        "    with open(filename, 'r') as file:\n",
        "        lines = file.readlines()\n",
        "    coefficients = [tuple(map(float, line.strip().split(','))) for line in lines]\n",
        "    return coefficients\n"
      ],
      "metadata": {
        "id": "NCog0Y0QFOUU"
      },
      "execution_count": 19,
      "outputs": []
    },
    {
      "cell_type": "code",
      "source": [
        "# Example: Solve for a single set of inputs\n",
        "coefficients = read_from_file('/content/input1.txt')\n",
        "a, b, c, time = coefficients[0]\n",
        "temperature = Temperature_modelling(a, b, c, time)\n",
        "print(\"read from a file for weather modelling\")\n",
        "print(\"Temperature form keyboard coefficients at time\", time, \"hours:\", Temperature_modelling(a, b, c, time))"
      ],
      "metadata": {
        "colab": {
          "base_uri": "https://localhost:8080/"
        },
        "id": "F4Q1AZM-GPCT",
        "outputId": "5cbcd02b-3485-4188-e1bb-6599de81b5fb"
      },
      "execution_count": 21,
      "outputs": [
        {
          "output_type": "stream",
          "name": "stdout",
          "text": [
            "read from a file for weather modelling\n",
            "Temperature form keyboard coefficients at time 6.0 hours: 286.0\n"
          ]
        }
      ]
    },
    {
      "cell_type": "code",
      "source": [
        "#solve for all sets in the file\n",
        "for index, (a, b, c, time) in enumerate(coefficients):\n",
        "    temperature = Temperature_modelling(a,b,c,time)\n",
        "    print(\"Temperature form keyboard coefficients at time\", time, \"hours:\", Temperature_modelling(a,b,c,time))\n"
      ],
      "metadata": {
        "colab": {
          "base_uri": "https://localhost:8080/"
        },
        "id": "-9QiHbOToJSV",
        "outputId": "0b797655-91f0-4f98-b3a9-282275129f30"
      },
      "execution_count": 22,
      "outputs": [
        {
          "output_type": "stream",
          "name": "stdout",
          "text": [
            "Temperature form keyboard coefficients at time 6.0 hours: 286.0\n"
          ]
        }
      ]
    }
  ]
}